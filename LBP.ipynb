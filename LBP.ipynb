{
 "cells": [
  {
   "cell_type": "code",
   "execution_count": null,
   "id": "a315b735",
   "metadata": {},
   "outputs": [],
   "source": [
    "from PIL import ImageTk, Image\n",
    "import matplotlib.pyplot as plt\n",
    "import numpy as np\n",
    "import sqlite3\n",
    "import cv2\n",
    "import os\n",
    "import re\n",
    "from tkinter import *\n",
    "from tkinter import filedialog\n",
    "import tksheet\n",
    "import io"
   ]
  },
  {
   "cell_type": "code",
   "execution_count": null,
   "id": "2b6035e6",
   "metadata": {},
   "outputs": [],
   "source": [
    "def adapt_array(arr):\n",
    "    out = io.BytesIO()\n",
    "    np.save(out, arr)\n",
    "    out.seek(0)\n",
    "    return sqlite3.Binary(out.read())"
   ]
  },
  {
   "cell_type": "code",
   "execution_count": null,
   "id": "d135f70c",
   "metadata": {},
   "outputs": [],
   "source": [
    "def convert_array(text):\n",
    "    out = io.BytesIO(text)\n",
    "    out.seek(0)\n",
    "    return np.load(out)"
   ]
  },
  {
   "cell_type": "code",
   "execution_count": null,
   "id": "5e67ab25",
   "metadata": {},
   "outputs": [],
   "source": [
    "# Converts np.array to TEXT when inserting\n",
    "sqlite3.register_adapter(np.ndarray, adapt_array)\n",
    "\n",
    "# Converts TEXT to np.array when selecting\n",
    "sqlite3.register_converter(\"array\", convert_array)"
   ]
  },
  {
   "cell_type": "markdown",
   "id": "f66284c2",
   "metadata": {},
   "source": [
    "# Create connection to Database"
   ]
  },
  {
   "cell_type": "code",
   "execution_count": null,
   "id": "50d4b0e1",
   "metadata": {},
   "outputs": [],
   "source": [
    "train_conn = sqlite3.connect('Train_Images.db', detect_types=sqlite3.PARSE_DECLTYPES)\n",
    "train_connection = train_conn.cursor()\n",
    "\n",
    "test_conn = sqlite3.connect('Test_Images.db', detect_types=sqlite3.PARSE_DECLTYPES)\n",
    "test_connection = test_conn.cursor()"
   ]
  },
  {
   "cell_type": "code",
   "execution_count": null,
   "id": "2e06bcd5",
   "metadata": {},
   "outputs": [],
   "source": [
    "# uniform_map is a dictionary of 58 eigenvalues of equivalent pattern, which are serialized and numbered from small to large\n",
    "uniform_map = {0: 0, 1: 1, 2: 2, 3: 3, 4: 4, 6: 5, 7: 6, 8: 7, 12: 8,14: 9, 15: 10, 16: 11, 24: 12, 28: 13, 30: 14, 31: 15, 32: 16, 48: 17,\n",
    " 56: 18, 60: 19, 62: 20, 63: 21, 64: 22, 96: 23, 112: 24,120: 25, 124: 26, 126: 27, 127: 28, 128: 29, 129: 30, 131: 31, 135: 32,143: 33,\n",
    " 159: 34, 191: 35, 192: 36, 193: 37, 195: 38, 199: 39, 207: 40,223: 41, 224: 42, 225: 43, 227: 44, 231: 45, 239: 46, 240: 47, 241: 48,\n",
    "243: 49, 247: 50, 248: 51, 249: 52, 251: 53, 252: 54, 253: 55, 254: 56,255: 57}"
   ]
  },
  {
   "cell_type": "code",
   "execution_count": null,
   "id": "542eba1c",
   "metadata": {},
   "outputs": [],
   "source": [
    "def cal_basic_lbp(img,i,j):#Points larger than the center pixel are assigned a value of 1, and those smaller than the center pixel are assigned a value of 0. The binary sequence is returned\n",
    "    sum = []\n",
    "    if img[i - 1, j ] > img[i, j]:\n",
    "        sum.append(1)\n",
    "    else:\n",
    "        sum.append(0)\n",
    "    if img[i - 1, j+1 ] > img[i, j]:\n",
    "        sum.append(1)\n",
    "    else:\n",
    "        sum.append(0)\n",
    "    if img[i , j + 1] > img[i, j]:\n",
    "        sum.append(1)\n",
    "    else:\n",
    "        sum.append(0)\n",
    "    if img[i + 1, j+1 ] > img[i, j]:\n",
    "        sum.append(1)\n",
    "    else:\n",
    "        sum.append(0)\n",
    "    if img[i + 1, j ] > img[i, j]:\n",
    "        sum.append(1)\n",
    "    else:\n",
    "        sum.append(0)\n",
    "    if img[i + 1, j - 1] > img[i, j]:\n",
    "        sum.append(1)\n",
    "    else:\n",
    "        sum.append(0)\n",
    "    if img[i , j - 1] > img[i, j]:\n",
    "        sum.append(1)\n",
    "    else:\n",
    "        sum.append(0)\n",
    "    if img[i - 1, j - 1] > img[i, j]:\n",
    "        sum.append(1)\n",
    "    else:\n",
    "        sum.append(0)\n",
    "    return sum"
   ]
  },
  {
   "cell_type": "code",
   "execution_count": null,
   "id": "c2b89f31",
   "metadata": {},
   "outputs": [],
   "source": [
    "def bin_to_decimal(bin):#Binary to decimal\n",
    "    res = 0\n",
    "    bit_num = 0 #Shift left\n",
    "    for i in bin[::-1]:\n",
    "        res += i << bit_num   # Shifting n bits to the left is equal to multiplying by 2 to the nth power\n",
    "        bit_num += 1\n",
    "    return res"
   ]
  },
  {
   "cell_type": "code",
   "execution_count": null,
   "id": "325871c2",
   "metadata": {},
   "outputs": [],
   "source": [
    "def lbp_uniform(img):\n",
    "    revolve_array = np.zeros(img.shape,np.uint8)\n",
    "    width = img.shape[0]\n",
    "    height = img.shape[1]\n",
    "    for i in range(1,width-1):\n",
    "        for j in range(1,height-1):\n",
    "            sum_ = cal_basic_lbp(img,i,j) #Get binary\n",
    "            num_ = calc_sum(sum_)  #Get jump times\n",
    "            if num_ <= 2:\n",
    "                revolve_array[i,j] = uniform_map[bin_to_decimal(sum_)] #If the number of jumps is less than or equal to 2, the decimal value corresponding to the binary sequence is the LBP value in the center of the neighborhood. There are only 58 possible values, but the maximum value can be 255, so the mapping is carried out here.\n",
    "            else:\n",
    "                revolve_array[i,j] = 58\n",
    "    return revolve_array"
   ]
  },
  {
   "cell_type": "code",
   "execution_count": null,
   "id": "c9d6ee6d",
   "metadata": {},
   "outputs": [],
   "source": [
    "def calc_sum(r):  # Gets the number of jumps in the binary of the value r\n",
    "    sum_ = 0\n",
    "    for i in range(0,len(r)-1):\n",
    "        if(r[i] != r[i+1]):\n",
    "            sum_ += 1\n",
    "    return sum_"
   ]
  },
  {
   "cell_type": "markdown",
   "id": "8419e4d4",
   "metadata": {},
   "source": [
    "# Export All data from Database"
   ]
  },
  {
   "cell_type": "code",
   "execution_count": null,
   "id": "5e12352a",
   "metadata": {},
   "outputs": [],
   "source": [
    "train_connection.execute(\"SELECT * FROM train_images\")\n",
    "#fetchall fetchmany(any number) fetchone\n",
    "train_records = train_connection.fetchall()\n",
    "\n",
    "\n",
    "test_connection.execute(\"SELECT * FROM test_images\")\n",
    "#fetchall fetchmany(any number) fetchone\n",
    "test_records = test_connection.fetchall()"
   ]
  },
  {
   "cell_type": "markdown",
   "id": "9a232f55",
   "metadata": {},
   "source": [
    "# Convert Each Section for Processing (get size, get image)"
   ]
  },
  {
   "cell_type": "code",
   "execution_count": null,
   "id": "416823c0",
   "metadata": {},
   "outputs": [],
   "source": [
    "oid = 1\n",
    "for train_record in train_records:\n",
    "    train_row = int(re.findall(r'\\b\\d+\\b',train_record[2])[0])\n",
    "    train_column = int(re.findall(r'\\b\\d+\\b',train_record[2])[1])\n",
    "    train_image = train_record[4]\n",
    "    train_image_gray = train_record[5]\n",
    "    train_uniform_array = lbp_uniform(train_image_gray)\n",
    "    train_connection.execute(\"\"\"UPDATE train_images SET\n",
    "        lbp_array':train_lbp_array\n",
    "        \n",
    "        WHERE oid = :oid\"\"\",\n",
    "        {'lbp_array':train_lbp_array\n",
    "        })\n",
    "    oid += 1\n",
    "oid = 1\n",
    "for test_record in test_records:\n",
    "    test_row = int(re.findall(r'\\b\\d+\\b',test_record[2])[0])\n",
    "    test_column = int(re.findall(r'\\b\\d+\\b',test_record[2])[1])\n",
    "    test_image = test_record[4]\n",
    "    test_image_gray = test_record[5]\n",
    "    test_lbp_array = lbp_uniform(test_image_gray)\n",
    "    test_connection.execute(\"\"\"UPDATE test_images SET\n",
    "        lbp_array':test_lbp_array\n",
    "        \n",
    "        WHERE oid = :oid\"\"\",\n",
    "        {'lbp_array':test_lbp_array\n",
    "        })\n",
    "    oid += 1"
   ]
  },
  {
   "cell_type": "code",
   "execution_count": null,
   "id": "b97d0c14",
   "metadata": {},
   "outputs": [],
   "source": []
  },
  {
   "cell_type": "markdown",
   "id": "75a6d649",
   "metadata": {},
   "source": [
    "# Close Connection from Database"
   ]
  },
  {
   "cell_type": "code",
   "execution_count": null,
   "id": "8c09ed13",
   "metadata": {},
   "outputs": [],
   "source": [
    "train_conn.commit()\n",
    "test_conn.commit()\n",
    "train_conn.close()\n",
    "test_conn.close()"
   ]
  },
  {
   "cell_type": "code",
   "execution_count": null,
   "id": "974b186d",
   "metadata": {},
   "outputs": [],
   "source": []
  }
 ],
 "metadata": {
  "kernelspec": {
   "display_name": "Python 3",
   "language": "python",
   "name": "python3"
  },
  "language_info": {
   "codemirror_mode": {
    "name": "ipython",
    "version": 3
   },
   "file_extension": ".py",
   "mimetype": "text/x-python",
   "name": "python",
   "nbconvert_exporter": "python",
   "pygments_lexer": "ipython3",
   "version": "3.8.10"
  }
 },
 "nbformat": 4,
 "nbformat_minor": 5
}
