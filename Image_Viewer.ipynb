{
 "cells": [
  {
   "cell_type": "code",
   "execution_count": 1,
   "id": "7dbb0be3",
   "metadata": {},
   "outputs": [
    {
     "ename": "TclError",
     "evalue": "image \"[[[0 0 0 0]\n  [0 0 0 0]\n  [0 0 0 0]\n  ...\n  [0 0 0 0]\n  [0 0 0 0]\n  [0 0 0 0]]\n\n [[0 0 0 0]\n  [0 0 0 0]\n  [0 0 0 0]\n  ...\n  [0 0 0 0]\n  [0 0 0 0]\n  [0 0 0 0]]\n\n [[0 0 0 0]\n  [0 0 0 0]\n  [0 0 0 0]\n  ...\n  [0 0 0 0]\n  [0 0 0 0]\n  [0 0 0 0]]\n\n ...\n\n [[0 0 0 0]\n  [0 0 0 0]\n  [0 0 0 0]\n  ...\n  [0 0 0 0]\n  [0 0 0 0]\n  [0 0 0 0]]\n\n [[0 0 0 0]\n  [0 0 0 0]\n  [0 0 0 0]\n  ...\n  [0 0 0 0]\n  [0 0 0 0]\n  [0 0 0 0]]\n\n [[0 0 0 0]\n  [0 0 0 0]\n  [0 0 0 0]\n  ...\n  [0 0 0 0]\n  [0 0 0 0]\n  [0 0 0 0]]]\" doesn't exist",
     "output_type": "error",
     "traceback": [
      "\u001b[1;31m---------------------------------------------------------------------------\u001b[0m",
      "\u001b[1;31mTclError\u001b[0m                                  Traceback (most recent call last)",
      "\u001b[1;32m<ipython-input-1-96ab3b5155fa>\u001b[0m in \u001b[0;36m<module>\u001b[1;34m\u001b[0m\n\u001b[0;32m     10\u001b[0m \u001b[0mimg_list\u001b[0m \u001b[1;33m=\u001b[0m \u001b[0mimread_collection\u001b[0m\u001b[1;33m(\u001b[0m\u001b[0mcol_dir\u001b[0m\u001b[1;33m)\u001b[0m\u001b[1;33m\u001b[0m\u001b[1;33m\u001b[0m\u001b[0m\n\u001b[0;32m     11\u001b[0m \u001b[0mimage_number\u001b[0m\u001b[1;33m=\u001b[0m\u001b[1;36m0\u001b[0m\u001b[1;33m\u001b[0m\u001b[1;33m\u001b[0m\u001b[0m\n\u001b[1;32m---> 12\u001b[1;33m \u001b[0mmy_label\u001b[0m \u001b[1;33m=\u001b[0m \u001b[0mLabel\u001b[0m\u001b[1;33m(\u001b[0m\u001b[0mimage\u001b[0m\u001b[1;33m=\u001b[0m\u001b[0mimg_list\u001b[0m\u001b[1;33m[\u001b[0m\u001b[0mimage_number\u001b[0m\u001b[1;33m]\u001b[0m\u001b[1;33m)\u001b[0m\u001b[1;33m\u001b[0m\u001b[1;33m\u001b[0m\u001b[0m\n\u001b[0m\u001b[0;32m     13\u001b[0m \u001b[1;33m\u001b[0m\u001b[0m\n\u001b[0;32m     14\u001b[0m \u001b[1;32mdef\u001b[0m \u001b[0mnext\u001b[0m\u001b[1;33m(\u001b[0m\u001b[0mimage_number\u001b[0m\u001b[1;33m)\u001b[0m\u001b[1;33m:\u001b[0m\u001b[1;33m\u001b[0m\u001b[1;33m\u001b[0m\u001b[0m\n",
      "\u001b[1;32m~\\.conda\\envs\\pytorch\\lib\\tkinter\\__init__.py\u001b[0m in \u001b[0;36m__init__\u001b[1;34m(self, master, cnf, **kw)\u001b[0m\n\u001b[0;32m   3146\u001b[0m \u001b[1;33m\u001b[0m\u001b[0m\n\u001b[0;32m   3147\u001b[0m         \"\"\"\n\u001b[1;32m-> 3148\u001b[1;33m         \u001b[0mWidget\u001b[0m\u001b[1;33m.\u001b[0m\u001b[0m__init__\u001b[0m\u001b[1;33m(\u001b[0m\u001b[0mself\u001b[0m\u001b[1;33m,\u001b[0m \u001b[0mmaster\u001b[0m\u001b[1;33m,\u001b[0m \u001b[1;34m'label'\u001b[0m\u001b[1;33m,\u001b[0m \u001b[0mcnf\u001b[0m\u001b[1;33m,\u001b[0m \u001b[0mkw\u001b[0m\u001b[1;33m)\u001b[0m\u001b[1;33m\u001b[0m\u001b[1;33m\u001b[0m\u001b[0m\n\u001b[0m\u001b[0;32m   3149\u001b[0m \u001b[1;33m\u001b[0m\u001b[0m\n\u001b[0;32m   3150\u001b[0m \u001b[1;33m\u001b[0m\u001b[0m\n",
      "\u001b[1;32m~\\.conda\\envs\\pytorch\\lib\\tkinter\\__init__.py\u001b[0m in \u001b[0;36m__init__\u001b[1;34m(self, master, widgetName, cnf, kw, extra)\u001b[0m\n\u001b[0;32m   2570\u001b[0m         \u001b[1;32mfor\u001b[0m \u001b[0mk\u001b[0m\u001b[1;33m,\u001b[0m \u001b[0mv\u001b[0m \u001b[1;32min\u001b[0m \u001b[0mclasses\u001b[0m\u001b[1;33m:\u001b[0m\u001b[1;33m\u001b[0m\u001b[1;33m\u001b[0m\u001b[0m\n\u001b[0;32m   2571\u001b[0m             \u001b[1;32mdel\u001b[0m \u001b[0mcnf\u001b[0m\u001b[1;33m[\u001b[0m\u001b[0mk\u001b[0m\u001b[1;33m]\u001b[0m\u001b[1;33m\u001b[0m\u001b[1;33m\u001b[0m\u001b[0m\n\u001b[1;32m-> 2572\u001b[1;33m         self.tk.call(\n\u001b[0m\u001b[0;32m   2573\u001b[0m             (widgetName, self._w) + extra + self._options(cnf))\n\u001b[0;32m   2574\u001b[0m         \u001b[1;32mfor\u001b[0m \u001b[0mk\u001b[0m\u001b[1;33m,\u001b[0m \u001b[0mv\u001b[0m \u001b[1;32min\u001b[0m \u001b[0mclasses\u001b[0m\u001b[1;33m:\u001b[0m\u001b[1;33m\u001b[0m\u001b[1;33m\u001b[0m\u001b[0m\n",
      "\u001b[1;31mTclError\u001b[0m: image \"[[[0 0 0 0]\n  [0 0 0 0]\n  [0 0 0 0]\n  ...\n  [0 0 0 0]\n  [0 0 0 0]\n  [0 0 0 0]]\n\n [[0 0 0 0]\n  [0 0 0 0]\n  [0 0 0 0]\n  ...\n  [0 0 0 0]\n  [0 0 0 0]\n  [0 0 0 0]]\n\n [[0 0 0 0]\n  [0 0 0 0]\n  [0 0 0 0]\n  ...\n  [0 0 0 0]\n  [0 0 0 0]\n  [0 0 0 0]]\n\n ...\n\n [[0 0 0 0]\n  [0 0 0 0]\n  [0 0 0 0]\n  ...\n  [0 0 0 0]\n  [0 0 0 0]\n  [0 0 0 0]]\n\n [[0 0 0 0]\n  [0 0 0 0]\n  [0 0 0 0]\n  ...\n  [0 0 0 0]\n  [0 0 0 0]\n  [0 0 0 0]]\n\n [[0 0 0 0]\n  [0 0 0 0]\n  [0 0 0 0]\n  ...\n  [0 0 0 0]\n  [0 0 0 0]\n  [0 0 0 0]]]\" doesn't exist"
     ]
    }
   ],
   "source": [
    "from tkinter import *\n",
    "from PIL import ImageTk, Image\n",
    "from skimage.io import imread_collection\n",
    "\n",
    "root = Tk()\n",
    "root.title(\"Image Viewer\")\n",
    "root.iconbitmap('D:/Essential Things/Work/ZLATAN3/8.9.20/ZLATAN3/ZLATAN3/icons/BackgroundLogoBlack.png')\n",
    "\n",
    "col_dir = 'D:/Essential Things/Work/ZLATAN3/8.9.20/ZLATAN3/ZLATAN3/icons/*.png'\n",
    "img_list = imread_collection(col_dir)\n",
    "image_number=0\n",
    "my_label = Label(image=img_list[image_number])\n",
    "\n",
    "def next(image_number):\n",
    "    global my_lable\n",
    "    global button_next\n",
    "    global button_back\n",
    "    \n",
    "    my_label.grid_forget()\n",
    "    my_label = Label(image=img_list[image_number-1])\n",
    "    Button_next = Button(root, text=\">>\", command= lambda: next(image_number+1))\n",
    "    Button_back = Button(root, text=\"<<\", command= lambda: back(image_number-1))\n",
    "    \n",
    "    if image_number == len(img_list):\n",
    "        Button_next = Button(root, text=\">>\", state=DISABLED)\n",
    "        \n",
    "    my_label.grid(row=0,column=0,columnspan=3)\n",
    "    Button_back.grid(row=1, column=0, )\n",
    "    Button_next.grid(row=1, column=2, )\n",
    "    \n",
    "    status = Label(root, text=\"Image \" + str(image_number) + \" of \" + str(len(img_list)), bd=1, relief=SUNKEN, anchor=E)\n",
    "    status.grid(row=2,column=0,columnspan=3, sticky= W+E)\n",
    "    \n",
    "def back(image_number):\n",
    "    global my_lable\n",
    "    global button_next\n",
    "    global button_back\n",
    "    \n",
    "    my_label.grid_forget()\n",
    "    my_label = Label(image=img_list[image_number-1])\n",
    "    Button_next = Button(root, text=\">>\", command= lambda: next(image_number+1))\n",
    "    Button_back = Button(root, text=\"<<\", command= lambda: back(image_number-1))\n",
    "    \n",
    "    if image_number == 1:\n",
    "        Button_back = Button(root, text=\"<<\", state=DISABLED)\n",
    "        \n",
    "    my_label.grid(row=0,column=0,columnspan=3)\n",
    "    Button_back.grid(row=1, column=0, )\n",
    "    Button_next.grid(row=1, column=2, )\n",
    "    \n",
    "    status = Label(root, text=\"Image \" + str(image_number) + \" of \" + str(len(img_list)), bd=1, relief=SUNKEN, anchor=E)\n",
    "    status.grid(row=2,column=0,columnspan=3, sticky= W+E)\n",
    "\n",
    "Button_back = Button(root, text=\"<<\", command= back)\n",
    "Button_back.grid(row=1, column=0, )\n",
    "Button_quit = Button(root, text=\"Exit\", command=root.quit)\n",
    "Button_quit.grid(row=1, column=1,)\n",
    "Button_next = Button(root, text=\">>\", command= lambda: next(2))\n",
    "Button_next.grid(row=1, column=2, pady=10 )\n",
    "\n",
    "status = Label(root, text=\"Image 1 of \" + str(len(img_list)), bd=1, relief=SUNKEN, anchor=E)\n",
    "status.grid(row=2,column=0,columnspan=3, )\n",
    "\n",
    "root.mainloop()"
   ]
  }
 ],
 "metadata": {
  "kernelspec": {
   "display_name": "Python 3",
   "language": "python",
   "name": "python3"
  },
  "language_info": {
   "codemirror_mode": {
    "name": "ipython",
    "version": 3
   },
   "file_extension": ".py",
   "mimetype": "text/x-python",
   "name": "python",
   "nbconvert_exporter": "python",
   "pygments_lexer": "ipython3",
   "version": "3.8.10"
  }
 },
 "nbformat": 4,
 "nbformat_minor": 5
}
